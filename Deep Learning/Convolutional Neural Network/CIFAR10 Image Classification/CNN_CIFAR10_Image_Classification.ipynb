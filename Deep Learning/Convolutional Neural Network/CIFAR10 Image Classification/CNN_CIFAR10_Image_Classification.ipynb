{
  "nbformat": 4,
  "nbformat_minor": 0,
  "metadata": {
    "colab": {
      "provenance": [],
      "collapsed_sections": [],
      "authorship_tag": "ABX9TyOTf7d5bGcnx8O7AcupS7jv",
      "include_colab_link": true
    },
    "kernelspec": {
      "name": "python3",
      "display_name": "Python 3"
    },
    "language_info": {
      "name": "python"
    }
  },
  "cells": [
    {
      "cell_type": "markdown",
      "metadata": {
        "id": "view-in-github",
        "colab_type": "text"
      },
      "source": [
        "<a href=\"https://colab.research.google.com/github/mava123-0/Machine-Learning-Projects/blob/main/Deep%20Learning/Convolutional%20Neural%20Network/CIFAR10%20Image%20Classification/CNN_CIFAR10_Image_Classification.ipynb\" target=\"_parent\"><img src=\"https://colab.research.google.com/assets/colab-badge.svg\" alt=\"Open In Colab\"/></a>"
      ]
    },
    {
      "cell_type": "code",
      "execution_count": 45,
      "metadata": {
        "id": "x6a4DD8FEjVg"
      },
      "outputs": [],
      "source": [
        "import tensorflow as tf\n",
        "from tensorflow.keras import datasets, layers, models\n",
        "import matplotlib.pyplot as plt\n",
        "import numpy as np"
      ]
    },
    {
      "cell_type": "code",
      "source": [
        "(x_train, y_train), (x_test,y_test) = datasets.cifar10.load_data()\n",
        "x_train.shape"
      ],
      "metadata": {
        "colab": {
          "base_uri": "https://localhost:8080/"
        },
        "id": "sgt-6hDpExT7",
        "outputId": "e3882bfd-1712-455f-c068-dc00f928d933"
      },
      "execution_count": 46,
      "outputs": [
        {
          "output_type": "execute_result",
          "data": {
            "text/plain": [
              "(50000, 32, 32, 3)"
            ]
          },
          "metadata": {},
          "execution_count": 46
        }
      ]
    },
    {
      "cell_type": "code",
      "source": [
        "x_test.shape"
      ],
      "metadata": {
        "colab": {
          "base_uri": "https://localhost:8080/"
        },
        "id": "naK6gO9vE84_",
        "outputId": "451b61c8-bda9-4b8f-a1c2-15b7b966f13e"
      },
      "execution_count": 47,
      "outputs": [
        {
          "output_type": "execute_result",
          "data": {
            "text/plain": [
              "(10000, 32, 32, 3)"
            ]
          },
          "metadata": {},
          "execution_count": 47
        }
      ]
    },
    {
      "cell_type": "code",
      "source": [
        "y_train.shape"
      ],
      "metadata": {
        "colab": {
          "base_uri": "https://localhost:8080/"
        },
        "id": "ZFnT78H3GL5W",
        "outputId": "d9338c2a-cd97-4b1a-947e-376276c34688"
      },
      "execution_count": 48,
      "outputs": [
        {
          "output_type": "execute_result",
          "data": {
            "text/plain": [
              "(50000, 1)"
            ]
          },
          "metadata": {},
          "execution_count": 48
        }
      ]
    },
    {
      "cell_type": "code",
      "source": [
        "y_train[::5] # classification index"
      ],
      "metadata": {
        "colab": {
          "base_uri": "https://localhost:8080/"
        },
        "id": "2l6PEg4YGNgo",
        "outputId": "30663fa4-fdd5-4e58-f99e-0074851041a1"
      },
      "execution_count": 49,
      "outputs": [
        {
          "output_type": "execute_result",
          "data": {
            "text/plain": [
              "array([[6],\n",
              "       [1],\n",
              "       [4],\n",
              "       ...,\n",
              "       [8],\n",
              "       [4],\n",
              "       [2]], dtype=uint8)"
            ]
          },
          "metadata": {},
          "execution_count": 49
        }
      ]
    },
    {
      "cell_type": "code",
      "source": [
        "#reshape y_train\n",
        "#keep first dimension same (no of imgs) or give (-1,); second one should be flattened\n",
        "#so leave it blank\n",
        "y_train = y_train.reshape(50000,)\n",
        "y_train[:5]"
      ],
      "metadata": {
        "colab": {
          "base_uri": "https://localhost:8080/"
        },
        "id": "41RrmZ7fGO6S",
        "outputId": "48994376-1a3f-4f82-c269-971ecf9185a9"
      },
      "execution_count": 67,
      "outputs": [
        {
          "output_type": "execute_result",
          "data": {
            "text/plain": [
              "array([6, 9, 9, 4, 1], dtype=uint8)"
            ]
          },
          "metadata": {},
          "execution_count": 67
        }
      ]
    },
    {
      "cell_type": "code",
      "source": [
        "y_test = y_test.reshape(-1,)"
      ],
      "metadata": {
        "id": "bKGPiwXHyq2C"
      },
      "execution_count": 68,
      "outputs": []
    },
    {
      "cell_type": "code",
      "source": [
        "#value of classes in y\n",
        "classes = [\"airplane\",\"automobile\",\"bird\",\"cat\",\"deer\",\"dog\",\"frog\",\"horse\",\"ship\",\"truck\"]"
      ],
      "metadata": {
        "id": "A8mk6qkaF1Dl"
      },
      "execution_count": 51,
      "outputs": []
    },
    {
      "cell_type": "code",
      "source": [
        "def plot_sample(x,y,index):\n",
        "  plt.figure(figsize = (15,2)) #change the size of image to smaller one\n",
        "  plt.imshow(x[index])\n",
        "  plt.xlabel(classes[y[index]])"
      ],
      "metadata": {
        "id": "O2cSETI5FAqL"
      },
      "execution_count": 52,
      "outputs": []
    },
    {
      "cell_type": "code",
      "source": [
        "plot_sample(x_train,y_train,2)"
      ],
      "metadata": {
        "colab": {
          "base_uri": "https://localhost:8080/",
          "height": 173
        },
        "id": "7CL4pS4CHn3f",
        "outputId": "039b8ed4-9e01-4aba-f652-b72f950623ff"
      },
      "execution_count": 53,
      "outputs": [
        {
          "output_type": "display_data",
          "data": {
            "text/plain": [
              "<Figure size 1080x144 with 1 Axes>"
            ],
            "image/png": "[encoded data removed]"
          },
          "metadata": {
            "needs_background": "light"
          }
        }
      ]
    },
    {
      "cell_type": "code",
      "source": [
        "plot_sample(x_train,y_train,4)"
      ],
      "metadata": {
        "colab": {
          "base_uri": "https://localhost:8080/",
          "height": 173
        },
        "id": "m2KOJSNnFEdq",
        "outputId": "a7ab6042-5699-476d-965a-944c3f22c216"
      },
      "execution_count": 54,
      "outputs": [
        {
          "output_type": "display_data",
          "data": {
            "text/plain": [
              "<Figure size 1080x144 with 1 Axes>"
            ],
            "image/png": "[encoded data removed]"
          },
          "metadata": {
            "needs_background": "light"
          }
        }
      ]
    },
    {
      "cell_type": "markdown",
      "source": [
        "**Normalize Data**"
      ],
      "metadata": {
        "id": "xiP_YbRZHruF"
      }
    },
    {
      "cell_type": "markdown",
      "source": [
        "Divide each pixel value by 255, since each have a range from 0 to 255 for each channel. Normalizing with 255, changes the range to between 0 and 1."
      ],
      "metadata": {
        "id": "n5L2tD7UHv6X"
      }
    },
    {
      "cell_type": "code",
      "source": [
        "x_train = x_train/255\n",
        "x_test = x_test/255"
      ],
      "metadata": {
        "id": "TSTOdlrcHtYT"
      },
      "execution_count": 55,
      "outputs": []
    },
    {
      "cell_type": "markdown",
      "source": [
        "**Create Model**"
      ],
      "metadata": {
        "id": "g7hbDKo00Kmp"
      }
    },
    {
      "cell_type": "code",
      "source": [
        "cnn = models.Sequential([\n",
        "    #filter size is kernel size - 3 by 3 \n",
        "    layers.Conv2D(filters = 32, kernel_size = (3,3), activation = 'relu', input_shape = (32,32,3)),\n",
        "    #2 by 2 filter\n",
        "    layers.MaxPooling2D((2,2)),\n",
        "\n",
        "    layers.Conv2D(filters = 32, kernel_size = (3,3), activation = 'relu', input_shape = (32,32,3)),\n",
        "    layers.MaxPooling2D((2,2)),\n",
        "\n",
        "    #no need to give shape, network automatically finds out\n",
        "    layers.Flatten(),\n",
        "    #CNN does not need many deep layers and neurons\n",
        "    layers.Dense(64,activation = 'relu'),\n",
        "    #softmax normalizes the probability\n",
        "    layers.Dense(10,activation = 'softmax')\n",
        "])"
      ],
      "metadata": {
        "id": "mDBRHaIYIIhL"
      },
      "execution_count": 56,
      "outputs": []
    },
    {
      "cell_type": "code",
      "source": [
        "cnn.compile(optimizer = 'adam',\n",
        "            #sparse_cat_crossover used since the values for y are integers; if categorical -> categorical_crossentropy    \n",
        "            loss = 'sparse_categorical_crossentropy',\n",
        "            metrics = ['accuracy']) "
      ],
      "metadata": {
        "id": "epJTXVVlr98H"
      },
      "execution_count": 57,
      "outputs": []
    },
    {
      "cell_type": "code",
      "source": [
        " cnn.fit(x_train,y_train,epochs=10)"
      ],
      "metadata": {
        "colab": {
          "base_uri": "https://localhost:8080/"
        },
        "id": "NSzMfvZCsy_Q",
        "outputId": "99860e4f-3cea-426e-83fe-f27dd326bc35"
      },
      "execution_count": 58,
      "outputs": [
        {
          "output_type": "stream",
          "name": "stdout",
          "text": [
            "Epoch 1/10\n",
            "1563/1563 [==============================] - 64s 41ms/step - loss: 1.4797 - accuracy: 0.4688\n",
            "Epoch 2/10\n",
            "1563/1563 [==============================] - 61s 39ms/step - loss: 1.1364 - accuracy: 0.6016\n",
            "Epoch 3/10\n",
            "1563/1563 [==============================] - 62s 39ms/step - loss: 1.0223 - accuracy: 0.6417\n",
            "Epoch 4/10\n",
            "1563/1563 [==============================] - 60s 38ms/step - loss: 0.9460 - accuracy: 0.6699\n",
            "Epoch 5/10\n",
            "1563/1563 [==============================] - 67s 43ms/step - loss: 0.8915 - accuracy: 0.6886\n",
            "Epoch 6/10\n",
            "1563/1563 [==============================] - 66s 42ms/step - loss: 0.8472 - accuracy: 0.7056\n",
            "Epoch 7/10\n",
            "1563/1563 [==============================] - 66s 42ms/step - loss: 0.8023 - accuracy: 0.7203\n",
            "Epoch 8/10\n",
            "1563/1563 [==============================] - 63s 40ms/step - loss: 0.7676 - accuracy: 0.7319\n",
            "Epoch 9/10\n",
            "1563/1563 [==============================] - 73s 47ms/step - loss: 0.7352 - accuracy: 0.7423\n",
            "Epoch 10/10\n",
            "1563/1563 [==============================] - 80s 51ms/step - loss: 0.7014 - accuracy: 0.7540\n"
          ]
        },
        {
          "output_type": "execute_result",
          "data": {
            "text/plain": [
              "<keras.callbacks.History at 0x7f2f2d718e10>"
            ]
          },
          "metadata": {},
          "execution_count": 58
        }
      ]
    },
    {
      "cell_type": "code",
      "source": [
        "cnn.evaluate(x_test,y_test)"
      ],
      "metadata": {
        "colab": {
          "base_uri": "https://localhost:8080/"
        },
        "id": "SqZSiX7PyPL1",
        "outputId": "072e63e3-1250-4526-efe1-1aaa6c996de4"
      },
      "execution_count": 60,
      "outputs": [
        {
          "output_type": "stream",
          "name": "stdout",
          "text": [
            "313/313 [==============================] - 4s 13ms/step - loss: 0.9784 - accuracy: 0.6808\n"
          ]
        },
        {
          "output_type": "execute_result",
          "data": {
            "text/plain": [
              "[0.9784400463104248, 0.6808000206947327]"
            ]
          },
          "metadata": {},
          "execution_count": 60
        }
      ]
    },
    {
      "cell_type": "markdown",
      "source": [
        "68% accuracy on cnn with optimizer = adam that was trained for 10 epochs"
      ],
      "metadata": {
        "id": "s2WrkEln0OXZ"
      }
    },
    {
      "cell_type": "code",
      "source": [
        "cnn_sgd = models.Sequential([\n",
        "    #filter size is kernel size - 3 by 3 \n",
        "    layers.Conv2D(filters = 32, kernel_size = (3,3), activation = 'relu', input_shape = (32,32,3)),\n",
        "    #2 by 2 filter\n",
        "    layers.MaxPooling2D((2,2)),\n",
        "\n",
        "    layers.Conv2D(filters = 32, kernel_size = (3,3), activation = 'relu', input_shape = (32,32,3)),\n",
        "    layers.MaxPooling2D((2,2)),\n",
        "\n",
        "    #no need to give shape, network automatically finds out\n",
        "    layers.Flatten(),\n",
        "    #CNN does not need many deep layers and neurons\n",
        "    layers.Dense(64,activation = 'relu'),\n",
        "    #softmax normalizes the probability\n",
        "    layers.Dense(10,activation = 'softmax')\n",
        "])"
      ],
      "metadata": {
        "id": "OaFTk9kbyOFb"
      },
      "execution_count": 61,
      "outputs": []
    },
    {
      "cell_type": "code",
      "source": [
        "cnn_sgd.compile(optimizer = 'SGD',\n",
        "                loss = 'sparse_categorical_crossentropy',\n",
        "                metrics = ['accuracy'])"
      ],
      "metadata": {
        "id": "MS4FFzPKzJBc"
      },
      "execution_count": 62,
      "outputs": []
    },
    {
      "cell_type": "code",
      "source": [
        "cnn_sgd.fit(x_test,y_test,epochs = 10)"
      ],
      "metadata": {
        "colab": {
          "base_uri": "https://localhost:8080/"
        },
        "id": "X1q_pg9czWUU",
        "outputId": "631b02f3-73b8-4052-9600-03ac67998afc"
      },
      "execution_count": 65,
      "outputs": [
        {
          "output_type": "stream",
          "name": "stdout",
          "text": [
            "Epoch 1/10\n",
            "313/313 [==============================] - 12s 38ms/step - loss: 1.7260 - accuracy: 0.3812\n",
            "Epoch 2/10\n",
            "313/313 [==============================] - 13s 41ms/step - loss: 1.6612 - accuracy: 0.4072\n",
            "Epoch 3/10\n",
            "313/313 [==============================] - 13s 40ms/step - loss: 1.6114 - accuracy: 0.4204\n",
            "Epoch 4/10\n",
            "313/313 [==============================] - 11s 35ms/step - loss: 1.5714 - accuracy: 0.4401\n",
            "Epoch 5/10\n",
            "313/313 [==============================] - 11s 36ms/step - loss: 1.5350 - accuracy: 0.4423\n",
            "Epoch 6/10\n",
            "313/313 [==============================] - 11s 35ms/step - loss: 1.5004 - accuracy: 0.4558\n",
            "Epoch 7/10\n",
            "313/313 [==============================] - 12s 38ms/step - loss: 1.4731 - accuracy: 0.4752\n",
            "Epoch 8/10\n",
            "313/313 [==============================] - 13s 42ms/step - loss: 1.4411 - accuracy: 0.4853\n",
            "Epoch 9/10\n",
            "313/313 [==============================] - 11s 36ms/step - loss: 1.4185 - accuracy: 0.4913\n",
            "Epoch 10/10\n",
            "313/313 [==============================] - 11s 36ms/step - loss: 1.3934 - accuracy: 0.5057\n"
          ]
        },
        {
          "output_type": "execute_result",
          "data": {
            "text/plain": [
              "<keras.callbacks.History at 0x7f2f2d3f6e90>"
            ]
          },
          "metadata": {},
          "execution_count": 65
        }
      ]
    },
    {
      "cell_type": "code",
      "source": [
        "cnn_sgd.evaluate(x_test, y_test)"
      ],
      "metadata": {
        "colab": {
          "base_uri": "https://localhost:8080/"
        },
        "id": "WydZ9N5Bzbxz",
        "outputId": "e01393ed-b540-40f8-b506-de3ee864bd9c"
      },
      "execution_count": 66,
      "outputs": [
        {
          "output_type": "stream",
          "name": "stdout",
          "text": [
            "313/313 [==============================] - 4s 12ms/step - loss: 1.3597 - accuracy: 0.5123\n"
          ]
        },
        {
          "output_type": "execute_result",
          "data": {
            "text/plain": [
              "[1.359748363494873, 0.5123000144958496]"
            ]
          },
          "metadata": {},
          "execution_count": 66
        }
      ]
    },
    {
      "cell_type": "markdown",
      "source": [
        "32% accuracy on cnn with optimizer = SGD that was trained for 10 epochs"
      ],
      "metadata": {
        "id": "7N085_kW0Vu2"
      }
    },
    {
      "cell_type": "markdown",
      "source": [
        "**Predicting using the model**"
      ],
      "metadata": {
        "id": "jD0OcliC1RNb"
      }
    },
    {
      "cell_type": "code",
      "source": [
        "y_pred = cnn.predict(x_test)\n",
        "y_pred[:5]\n",
        "# here y_pred is a list of lists with the probability distribution\n",
        "# for each input of y_test, so find the index of the max value \n",
        "# in each list to get the class of the item. "
      ],
      "metadata": {
        "colab": {
          "base_uri": "https://localhost:8080/"
        },
        "id": "Fh5NhYWE1Uwz",
        "outputId": "40b9ec42-1e23-4412-adf0-bd181d6597c6"
      },
      "execution_count": 69,
      "outputs": [
        {
          "output_type": "stream",
          "name": "stdout",
          "text": [
            "313/313 [==============================] - 4s 14ms/step\n"
          ]
        },
        {
          "output_type": "execute_result",
          "data": {
            "text/plain": [
              "array([[6.5944268e-04, 4.7347182e-04, 8.1095044e-05, 5.9817302e-01,\n",
              "        2.0377135e-03, 2.9514459e-01, 6.3769534e-02, 5.3535161e-05,\n",
              "        3.9172072e-02, 4.3555067e-04],\n",
              "       [2.4636062e-03, 5.7938439e-04, 1.2541136e-07, 1.5123133e-08,\n",
              "        8.5667928e-08, 9.2952500e-11, 5.8643861e-11, 6.3334502e-09,\n",
              "        9.9688226e-01, 7.4559845e-05],\n",
              "       [2.4393838e-02, 4.2398028e-02, 5.0485937e-04, 6.2241917e-03,\n",
              "        1.5985565e-03, 1.7481967e-04, 3.7345701e-05, 9.6405152e-04,\n",
              "        8.7624967e-01, 4.7454704e-02],\n",
              "       [9.3448275e-01, 2.8365862e-03, 1.3188075e-03, 8.2097386e-06,\n",
              "        2.3462935e-03, 2.1609716e-07, 3.1270771e-04, 7.1506843e-06,\n",
              "        5.8208205e-02, 4.7905438e-04],\n",
              "       [1.6344909e-06, 1.0058947e-05, 4.3741416e-04, 6.1618020e-03,\n",
              "        4.4203815e-01, 4.9190745e-03, 5.4641509e-01, 1.1786035e-05,\n",
              "        4.9970720e-07, 4.4178964e-06]], dtype=float32)"
            ]
          },
          "metadata": {},
          "execution_count": 69
        }
      ]
    },
    {
      "cell_type": "code",
      "source": [
        "# argmax returns the index of the max value in a list\n",
        "index = 0\n",
        "print(\"Predictions:\\n\")\n",
        "for item in y_pred[:5]:\n",
        "  max_index = np.argmax(item)\n",
        "  plot_sample(x_test, y_test, index)\n",
        "  print(\"Predicted:\",classes[max_index],\"| Actual Value:\",classes[y_test[index]])\n",
        "  index += 1\n",
        "  if (index == 5):\n",
        "    print(\"\\n\\nImages:\\n\")"
      ],
      "metadata": {
        "colab": {
          "base_uri": "https://localhost:8080/",
          "height": 988
        },
        "id": "olvN9Utp1eyw",
        "outputId": "9fe3b06e-3087-4db7-97fe-724ec29f82b1"
      },
      "execution_count": 84,
      "outputs": [
        {
          "output_type": "stream",
          "name": "stdout",
          "text": [
            "Predictions:\n",
            "\n",
            "Predicted: cat | Actual Value: cat\n",
            "Predicted: ship | Actual Value: ship\n",
            "Predicted: ship | Actual Value: ship\n",
            "Predicted: airplane | Actual Value: airplane\n",
            "Predicted: frog | Actual Value: frog\n",
            "\n",
            "\n",
            "Images:\n",
            "\n"
          ]
        },
        {
          "output_type": "display_data",
          "data": {
            "text/plain": [
              "<Figure size 1080x144 with 1 Axes>"
            ],
            "image/png": "[encoded data removed]"
          },
          "metadata": {
            "needs_background": "light"
          }
        },
        {
          "output_type": "display_data",
          "data": {
            "text/plain": [
              "<Figure size 1080x144 with 1 Axes>"
            ],
            "image/png": "[encoded data removed]"
          },
          "metadata": {
            "needs_background": "light"
          }
        },
        {
          "output_type": "display_data",
          "data": {
            "text/plain": [
              "<Figure size 1080x144 with 1 Axes>"
            ],
            "image/png": "[encoded data removed]"
          },
          "metadata": {
            "needs_background": "light"
          }
        },
        {
          "output_type": "display_data",
          "data": {
            "text/plain": [
              "<Figure size 1080x144 with 1 Axes>"
            ],
            "image/png": "[encoded data removed]"
          },
          "metadata": {
            "needs_background": "light"
          }
        },
        {
          "output_type": "display_data",
          "data": {
            "text/plain": [
              "<Figure size 1080x144 with 1 Axes>"
            ],
            "image/png": "[encoded data removed]"
          },
          "metadata": {
            "needs_background": "light"
          }
        }
      ]
    }
  ]
}